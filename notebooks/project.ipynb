import re

ruta = "../data/baby1998.html"
# Parte 1
# Explicación:
# Utilizando "r" lo que buscaba era poner en formato texto y en lectura por lineas la base de datos. Con esto, el programa puede leer el archivo línea por línea y
# encontrar así como indica la tarea la primera línea que contenga el año de la base de datos correspondiente. Dentro de la base, encontre que la fecha siempre
# estaba luego de ciertos indicativos como "value=" ya que funciona como un input value="1998", pero tambien se podía encontrar luego de "Popularity in" ...
# Una vez que detectamos una línea relevante, que cumpla con lo anterior, buscamos 4 dígitos seguidos con la siguiente expresión regular: [0-9][0-9][0-9][0-9]
# buscando obtener los 4 digitos del año. Con esto, devolvemos el primer año que encontremos. Con el "For" lo que hace es leer linea tras linea, y chequear lo que
# mencione anteriormente en aquellas lineas que puedan contener años según los parametros mencionados. Si no encuentra nada, sigue con la siguiente linea

def obtener_ano_primera_coincidencia(ruta_archivo):
    with open(ruta_archivo, "r") as archivo:
        for linea in archivo:
            if ("value=" in linea) or ("Popularity in" in linea):
                m = re.search("[0-9][0-9][0-9][0-9]", linea)
                if m:
                    return m.group(0)
    return None
ano = obtener_ano_primera_coincidencia(ruta)

print("Parte 1_ Año:", ano)

##############################################################################################################################################3
# Parte 2
# Igual que en el caso anterior, lo primero que hice fue mirar la estructura del html donde estaban los datos, visualizando que la composición siempre era la
# siguiente: <td>posición en el ranking</td><td>Nombre_Del_Varon</td><td>Nombre_De_La_Mujer</td>. Con eso, ya tenemos la estructura de los datos y donde podemos
# encontrarlos. Creando asi un regex que tome 3 grupos. El ranking utilizando ([0-9]+), el nombre de varón utilizando ([A-Za-z]+) y el nombre de mujer con el mismo
# formato del varon. Despúes de eso, con re.findall(patrón, texto_html) obtenemos una lista de tuplas como lo exige el trabajo, Obteniendo asi los 3 grupos
# (Ranking, Varon, Mujer)
# Luego convertimos cada fila en dos tuplas con el pares.append para unificar niños y niñas en una misma lista, como pide la consigna.
def extraer_pares_nombre_ranking(texto_html):

    patron = "<td>([0-9]+)</td><td>([A-Za-z]+)</td><td>([A-Za-z]+)</td>"
    filas = re.findall(patron, texto_html)
    pares = []
    for ranking, nombre_varon, nombre_mujer in filas:
        pares.append((nombre_varon, ranking))
        pares.append((nombre_mujer, ranking))
    return pares
with open(ruta, "r") as archivo:
    html_completo = archivo.read()
pares = extraer_pares_nombre_ranking(html_completo)

print("Parte 2_ ", pares[:6])

##############################################################################################################################################3
# Parte 3
# Para esta parte cree una función, dentro de la misma agregue un diccionario vacío llamado diccionar. A traves de la función busco revisar cada tupla, lo cual es
# hace con el "for", luego de revisar la tupla se guarda el texto del nombre en nombre y el ranking en ranking. Sin embargo antes de agregarse, había que tener en
# cuenta que una de las condiciónes de esta parte era que no se repitan nombres en el diccionario. Entonces, con el "if" chequeamos, si todavía no está, lo
# incorporamos con diccionar[nombre] = ranking. Si ya estaba, no se hace nada y se sigue. Esta decisión con el if de agregar solo si no existe hace
# que conservemos la primera aparición de cada nombre.

def creación_de_diccionario(pares):
    diccionar = {}
    for nombre, ranking in pares:
        if nombre not in diccionar:
            diccionar[nombre] = ranking
    return diccionar
diccionar = creación_de_diccionario(pares)

print("Parte 3: Primeras 6 claves y valores", list(diccionar.items())[:6])

##############################################################################################################################################3
# Parte 4

# Para esta parte utilice el diccionario que cree en la parte anterior donde cada clave es un nombre y su valor es el ranking. Gracias a que creamos ese diccionario,
# podemos extraer mas facilmente las claves utilizando '.keys' que devuelve una vista de todas las claves existentes en el mismo, luego de esto, aplique la función
# sorten que me permitía crear una lista nueva con los nombres ordenados alfabéticamente. Si bien no utilice regex para esta parte no me parecía necesario teniendo
# una función que me facilite la labor y sea suficiente para esta tarea.


def diccionario_alfabeticamente(diccionario):
    return sorted(diccionario.keys())
nombres_ordenados = diccionario_alfabeticamente(diccionar)

print("Parte 4_ Primeros 10 nombres ordenados alfabeticamente:", nombres_ordenados[:10])

##############################################################################################################################################3
# Parte 5
# Para esta ultima parte tome lo que ya tenía hecho de antes, el año obtenido en la parte 1 y el diccionario de la parte 3. Para hacer esto, empece po crear una
# lista llamada salida colocando primero el año como en el ejemplo para luego recorrer los nombres del diccionario en orden alfabético usando nuevamente la funcion
# sorted(diccionario.keys()), lo que me ordenaba los nombres, por cada uno se consulta su ranking en el diccionario y se forma una string (f"{nombre} -
#  {diccionario[nombre]}") que da como resultado el nombre, un guion y el ranking.

def parte5(ano, diccionario):
    salida = [ano]
    for nombre in sorted(diccionario.keys()):
        salida.append(f"{nombre} - {diccionario[nombre]}")
    return salida
final = parte5(ano, diccionar)
print("Parte 5_ Año y luego cuatro nombres con su ranking", final[:5])
